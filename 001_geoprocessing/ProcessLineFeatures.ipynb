{
 "metadata": {
  "language_info": {
   "codemirror_mode": {
    "name": "ipython",
    "version": 3
   },
   "file_extension": ".py",
   "mimetype": "text/x-python",
   "name": "python",
   "nbconvert_exporter": "python",
   "pygments_lexer": "ipython3",
   "version": "3.7.9"
  },
  "orig_nbformat": 2,
  "kernelspec": {
   "name": "python379jvsc74a57bd01fc8dbfc0dcd360a4d434bf7e2b03d2b730858662e47872e9ca248702abac7b4",
   "display_name": "Python 3.7.9 64-bit (conda)"
  }
 },
 "nbformat": 4,
 "nbformat_minor": 2,
 "cells": [
  {
   "source": [
    "# Process Line Features to Network\n",
    "\n",
    "This exercise addresses specific tasks below:\n",
    "\n",
    "- Accurate extraction of line intersections, start points and end points\n",
    "    - line intersections are defined as: points that appear as vertices in more than one line \n",
    "    - start and end points are the first and last vertices of every line feature \n",
    "- construct an edge table that represent connectivity between any pair of point features from the previous task \n",
    "    - in an edge table representation, we are primarily concerned with *immediate connectivity*: when two points appear in the same line segment\n",
    "    - weight of the edge is the physical distance between the two point features\n",
    "\n",
    "\n",
    "The output edge table will be used to perform percolation analysis."
   ],
   "cell_type": "markdown",
   "metadata": {}
  },
  {
   "source": [
    "## Extract Intersection/Start/End Points"
   ],
   "cell_type": "markdown",
   "metadata": {}
  },
  {
   "cell_type": "code",
   "execution_count": null,
   "metadata": {},
   "outputs": [],
   "source": [
    "import os, sys \n",
    "import geopandas as gpd \n",
    "import networkx as nx \n",
    "import pandas as pd \n",
    "import numpy as np \n",
    "from shapely.geometry import LineString\n",
    "from shapely.geometry import Point\n",
    "import matplotlib.pyplot as plt "
   ]
  },
  {
   "cell_type": "code",
   "execution_count": null,
   "metadata": {},
   "outputs": [],
   "source": [
    "# import shapefile dataset \n",
    "orig_features = gpd.read_file(r\"data/RoadSectionLine.shp\")\n",
    "orig_features.plot()"
   ]
  },
  {
   "cell_type": "code",
   "execution_count": null,
   "metadata": {},
   "outputs": [],
   "source": [
    "orig_features.head()"
   ]
  },
  {
   "cell_type": "code",
   "execution_count": null,
   "metadata": {},
   "outputs": [],
   "source": [
    "# to extract intersection points, we first gather a set of all point coordinates, and identify the duplicates among them\n",
    "singlepart_features = orig_features.explode()\n",
    "singlepart_features.info()"
   ]
  },
  {
   "cell_type": "code",
   "execution_count": null,
   "metadata": {},
   "outputs": [],
   "source": [
    "singlepart_features['PtSequence'] = singlepart_features.apply(lambda x: [y for y in x['geometry'].coords], axis=1)\n",
    "singlepart_features['PtSequence'].head()"
   ]
  },
  {
   "cell_type": "code",
   "execution_count": null,
   "metadata": {},
   "outputs": [],
   "source": [
    "point_list = singlepart_features['PtSequence'].to_list()    # nested list of point sequences\n",
    "flat_point_list = [item for sublist in point_list for item in sublist]  # flatten the list\n",
    "\n",
    "# get duplicates - intersections\n",
    "import collections\n",
    "pt_intersection = [item for item, count in collections.Counter(flat_point_list).items() if count > 1]"
   ]
  },
  {
   "cell_type": "code",
   "execution_count": null,
   "metadata": {},
   "outputs": [],
   "source": [
    "pt_intersection[:5]"
   ]
  },
  {
   "cell_type": "code",
   "execution_count": null,
   "metadata": {},
   "outputs": [],
   "source": [
    "# now we'll get a list of start and end coordinates\n",
    "pt_start = [pt[0] for pt in point_list]\n",
    "pt_end = [pt[-1] for pt in point_list]"
   ]
  },
  {
   "cell_type": "code",
   "execution_count": null,
   "metadata": {},
   "outputs": [],
   "source": [
    "# merge 3 lists and keep only unique\n",
    "pt_all = pt_intersection + pt_start + pt_end \n",
    "pt_all = list(set(pt_all))\n",
    "len(pt_all)"
   ]
  },
  {
   "cell_type": "code",
   "execution_count": null,
   "metadata": {},
   "outputs": [],
   "source": [
    "# create a geodataframe and plot the points\n",
    "geometry = [Point(xy) for xy in pt_all]\n",
    "gdf = gpd.GeoDataFrame(geometry, columns=['geometry'])\n",
    "gdf.head()"
   ]
  },
  {
   "cell_type": "code",
   "execution_count": null,
   "metadata": {},
   "outputs": [],
   "source": [
    "gdf.plot(markersize=1,c='k',alpha=0.5)"
   ]
  },
  {
   "source": [
    "Looks quite neat. We now move on to the next task to determine connectivity between immediate pair of points"
   ],
   "cell_type": "markdown",
   "metadata": {}
  },
  {
   "cell_type": "code",
   "execution_count": null,
   "metadata": {},
   "outputs": [],
   "source": [
    "# add index and export to shapefile\n",
    "gdf['ID'] = gdf.index\n",
    "# gdf.to_file(r\"data/RoadPoint.shp\")"
   ]
  },
  {
   "cell_type": "code",
   "execution_count": null,
   "metadata": {},
   "outputs": [],
   "source": [
    "# generate a point coordinates:ID dictionary\n",
    "pt_dict = {}\n",
    "for l in pt_all:\n",
    "    # trim coordinates to 6 digits\n",
    "    trim_l = (round(l[0], 6), round(l[1], 6))\n",
    "    pt_dict[trim_l] = pt_all.index(l)"
   ]
  },
  {
   "source": [
    "## Clean up Line Features"
   ],
   "cell_type": "markdown",
   "metadata": {}
  },
  {
   "source": [
    "The idea is that, a point can only be connected to its immediate neighbour. Secondary connectivity is implied between non-neighbouring points."
   ],
   "cell_type": "markdown",
   "metadata": {}
  },
  {
   "cell_type": "code",
   "execution_count": null,
   "metadata": {},
   "outputs": [],
   "source": [
    "# iterate every line feature to obtain connected segments between points in pt_all list (intersection, start/end points)\n",
    "\n",
    "detailed_segments = []\n",
    "seg_id = 0\n",
    "simplified_segments = []\n",
    "\n",
    "for segment in point_list:\n",
    "    detailed_segment = []\n",
    "\n",
    "    start_pt = segment[0]\n",
    "    prev_pt = segment[0]\n",
    "    detailed_segment.append(start_pt)\n",
    "\n",
    "    for pt in segment[1:]:\n",
    "        simplified_segment = (start_pt, pt)\n",
    "        detailed_segment.append(pt)\n",
    "        segment = (start_pt, pt)\n",
    "        if pt in pt_all:\n",
    "            simplified_segments.append({'SegmentID': seg_id, 'PtSequence': simplified_segment})\n",
    "            detailed_segments.append({'SegmentID': seg_id, 'PtSequence': tuple(detailed_segment)})\n",
    "            start_pt = pt \n",
    "            seg_id += 1\n",
    "        \n",
    "        prev_pt = pt\n",
    "        \n",
    "\n"
   ]
  },
  {
   "cell_type": "code",
   "execution_count": null,
   "metadata": {
    "tags": []
   },
   "outputs": [],
   "source": [
    "\n",
    "print(len(detailed_segments))\n",
    "print(len(simplified_segments))"
   ]
  },
  {
   "cell_type": "code",
   "execution_count": null,
   "metadata": {},
   "outputs": [],
   "source": [
    "detailed_segments[:3]"
   ]
  },
  {
   "cell_type": "code",
   "execution_count": null,
   "metadata": {},
   "outputs": [],
   "source": []
  },
  {
   "cell_type": "code",
   "execution_count": null,
   "metadata": {},
   "outputs": [],
   "source": [
    "simplified_segments[:5]"
   ]
  },
  {
   "cell_type": "code",
   "execution_count": null,
   "metadata": {},
   "outputs": [],
   "source": []
  },
  {
   "cell_type": "code",
   "execution_count": null,
   "metadata": {},
   "outputs": [],
   "source": [
    "# convert both to geodataframe\n",
    "simplified_gdf = gpd.GeoDataFrame(simplified_segments)\n",
    "simplified_gdf['geometry'] = simplified_gdf.apply(lambda x: LineString(x['PtSequence']), axis=1)\n",
    "\n",
    "detailed_gdf = gpd.GeoDataFrame(detailed_segments)\n",
    "detailed_gdf['geometry'] = detailed_gdf.apply(lambda x: LineString(x['PtSequence']), axis=1)"
   ]
  },
  {
   "cell_type": "code",
   "execution_count": null,
   "metadata": {},
   "outputs": [],
   "source": [
    "detailed_gdf.head()"
   ]
  },
  {
   "cell_type": "code",
   "execution_count": null,
   "metadata": {},
   "outputs": [],
   "source": [
    "simplified_gdf"
   ]
  },
  {
   "cell_type": "code",
   "execution_count": null,
   "metadata": {},
   "outputs": [],
   "source": [
    "# plot the detailed line with simplified line together\n",
    "fig, ax = plt.subplots(1, 3, figsize=(24, 10), sharey=True)\n",
    "fig.subplots_adjust(wspace=0, hspace=0)\n",
    "plt.tight_layout()\n",
    "\n",
    "# detailed road segments\n",
    "detailed_gdf.plot(ax=ax[0], linewidth=1)\n",
    "ax[0].set_title = \"Detailed Road Segments\"\n",
    "\n",
    "# simplified road segments\n",
    "simplified_gdf.plot(linewidth=1, ax=ax[1])\n",
    "ax[1].set_title  = \"Simplified Road Segments\"\n",
    "\n",
    "# overlay point and lines\n",
    "gdf.plot(markersize=1, ax=ax[2], c='r')\n",
    "simplified_gdf.plot(linewidth=1, ax=ax[2], color='gray')\n",
    "ax[2].set_title = \"Simplified Road Segments + intersection points\"\n",
    "\n",
    "plt.show()"
   ]
  },
  {
   "cell_type": "code",
   "execution_count": null,
   "metadata": {},
   "outputs": [],
   "source": [
    "# zoom to one area\n",
    "fig, ax = plt.subplots(1, 1, figsize=(20,15))\n",
    "gdf.plot(markersize=3, ax=ax, c='r')\n",
    "detailed_gdf.plot(linewidth=1, ax=ax, color='gray')\n",
    "plt.xlim([25000, 30000])\n",
    "plt.ylim([30000, 35000])"
   ]
  },
  {
   "cell_type": "code",
   "execution_count": null,
   "metadata": {},
   "outputs": [],
   "source": [
    "# zoom to one area\n",
    "fig, ax = plt.subplots(1, 1, figsize=(20,15))\n",
    "gdf.plot(markersize=3, ax=ax, c='r')\n",
    "simplified_gdf.plot(linewidth=1, ax=ax, color='gray')\n",
    "plt.xlim([25000, 30000])\n",
    "plt.ylim([30000, 35000])"
   ]
  },
  {
   "cell_type": "code",
   "execution_count": null,
   "metadata": {},
   "outputs": [],
   "source": [
    "# export results so far to shapefile\n",
    "simplified_gdf[['SegmentID', 'geometry']].to_file(r\"data/RoadSegments_Simplified.shp\")\n",
    "detailed_gdf[['SegmentID', 'geometry']].to_file(r\"data/RoadSegments_Detailed.shp\")\n"
   ]
  },
  {
   "source": [
    "## Export to Weighted Edge Table\n",
    "\n",
    "The last step of this exercise is to generate the edge table in the format of:\n",
    "\n",
    "*StartPtID, EndPtID, Weight* \n",
    "\n",
    "where weight is represented by actual length of road segments.\n",
    "For this we will need to create an ID table of points and length of every road segment"
   ],
   "cell_type": "markdown",
   "metadata": {}
  },
  {
   "cell_type": "code",
   "execution_count": null,
   "metadata": {},
   "outputs": [],
   "source": [
    "# first we get the length of every small segment\n",
    "detailed_gdf['length'] = detailed_gdf['geometry'].length\n"
   ]
  },
  {
   "cell_type": "code",
   "execution_count": null,
   "metadata": {},
   "outputs": [],
   "source": [
    "# extract start/end point\n",
    "simplified_gdf['StartPtCoord'] = simplified_gdf.apply(lambda x: (round(x['geometry'].coords[0][0], 6), round(x['geometry'].coords[0][1], 6)), axis=1)\n",
    "simplified_gdf['EndPtCoord'] = simplified_gdf.apply(lambda x: (round(x['geometry'].coords[1][0], 6), round(x['geometry'].coords[1][1], 6)), axis=1)\n",
    "simplified_gdf['StartPtID'] = simplified_gdf.apply(lambda x: pt_dict[x['StartPtCoord']], axis=1)\n",
    "simplified_gdf['EndPtID'] = simplified_gdf.apply(lambda x: pt_dict[x['EndPtCoord']], axis=1)\n"
   ]
  },
  {
   "cell_type": "code",
   "execution_count": null,
   "metadata": {},
   "outputs": [],
   "source": [
    "simplified_gdf.head()"
   ]
  },
  {
   "cell_type": "code",
   "execution_count": null,
   "metadata": {},
   "outputs": [],
   "source": [
    "# concartenate two df\n",
    "full_line_df = simplified_gdf[['StartPtID', 'EndPtID', 'SegmentID']].join(detailed_gdf[['SegmentID', 'length']], how='inner', on=\"SegmentID\", lsuffix='_simplified', rsuffix='_detailed')"
   ]
  },
  {
   "cell_type": "code",
   "execution_count": null,
   "metadata": {},
   "outputs": [],
   "source": [
    "full_line_df.head()"
   ]
  },
  {
   "cell_type": "code",
   "execution_count": null,
   "metadata": {},
   "outputs": [],
   "source": [
    "full_line_df.info()"
   ]
  },
  {
   "cell_type": "code",
   "execution_count": null,
   "metadata": {},
   "outputs": [],
   "source": [
    "# write weighted edge table to file\n",
    "f = open(r\"data/roadsegment.edgelist\", \"w\")\n",
    "for d in full_line_df.iterrows():\n",
    "    f.write(\"{} {} {}\\n\".format(int(d[1]['StartPtID']), int(d[1]['EndPtID']), d[1]['length']))\n",
    "\n",
    "f.close()"
   ]
  },
  {
   "cell_type": "code",
   "execution_count": null,
   "metadata": {},
   "outputs": [],
   "source": [
    "# import edgelist as network\n",
    "g = nx.read_weighted_edgelist(r\"data/roadsegment.edgelist\")"
   ]
  },
  {
   "cell_type": "code",
   "execution_count": null,
   "metadata": {},
   "outputs": [],
   "source": [
    "len(g.nodes)"
   ]
  },
  {
   "cell_type": "code",
   "execution_count": null,
   "metadata": {},
   "outputs": [],
   "source": [
    "len(g.edges)"
   ]
  },
  {
   "cell_type": "code",
   "execution_count": null,
   "metadata": {},
   "outputs": [],
   "source": [
    "nx.number_connected_components(g)"
   ]
  }
 ]
}