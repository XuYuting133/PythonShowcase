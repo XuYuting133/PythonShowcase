version https://git-lfs.github.com/spec/v1
oid sha256:02ae20c1dd82ded69750dd99d3b1f21fe6b3db55a00d0bbc44ebeccd5c7b5a87
size 13468
