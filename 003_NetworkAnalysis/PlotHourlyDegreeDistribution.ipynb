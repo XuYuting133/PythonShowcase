version https://git-lfs.github.com/spec/v1
oid sha256:daccad55cf896e7e586bd97c891f21bb0306cf1c121b2f3ecb42b2a1b0753eca
size 2309759
