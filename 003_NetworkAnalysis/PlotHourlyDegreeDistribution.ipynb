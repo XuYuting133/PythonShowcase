version https://git-lfs.github.com/spec/v1
oid sha256:a30f6e0d8e2df88982d4278d41813e2a7daddaf70ae62f1ff6a409e7eea56d29
size 1972556
