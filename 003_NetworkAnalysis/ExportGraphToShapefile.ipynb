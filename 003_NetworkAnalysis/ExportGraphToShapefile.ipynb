{
 "cells": [
  {
   "cell_type": "code",
   "execution_count": 13,
   "metadata": {},
   "outputs": [],
   "source": [
    "import os\n",
    "import networkx as nx\n",
    "import arcpy"
   ]
  },
  {
   "cell_type": "code",
   "execution_count": 15,
   "metadata": {},
   "outputs": [],
   "source": [
    "import pandas as pd"
   ]
  },
  {
   "cell_type": "code",
   "execution_count": 14,
   "metadata": {},
   "outputs": [
    {
     "ename": "ModuleNotFoundError",
     "evalue": "No module named 'untools'",
     "output_type": "error",
     "traceback": [
      "\u001b[1;31m---------------------------------------------------------------------------\u001b[0m",
      "\u001b[1;31mModuleNotFoundError\u001b[0m                       Traceback (most recent call last)",
      "\u001b[1;32m~\\AppData\\Local\\ESRI\\conda\\envs\\my_env\\lib\\site-packages\\untools\\esri\\toolboxes\\UtilityNetworkPackageTools.pyt\u001b[0m in \u001b[0;36m<module>\u001b[1;34m\u001b[0m\n",
      "\u001b[1;31mModuleNotFoundError\u001b[0m: No module named 'untools'"
     ]
    },
    {
     "data": {
      "text/plain": [
       "48"
      ]
     },
     "execution_count": 14,
     "metadata": {},
     "output_type": "execute_result"
    }
   ],
   "source": [
    "input_data_folder = r\"C:\\Users\\ytxu\\Documents\\ArcGIS\\Projects\\GE6211SDH\\Processed\\202101\\Edge\\Bus\"\n",
    "file_list = os.listdir(input_data_folder)\n",
    "edgelist_list = [f for f in file_list if \"Edgelist\" in f and  \".csv\" in f]\n",
    "\n",
    "if not arcpy.Exists(out_fgdb):\n",
    "    arcpy.CreateFileGDB_management(r\"C:\\Users\\ytxu\\Documents\\ArcGIS\\Projects\\GE6211SDH\", \"NetworkGeometry.gdb\")\n",
    "\n",
    "\n",
    "len(edgelist_list)"
   ]
  },
  {
   "cell_type": "code",
   "execution_count": 26,
   "metadata": {},
   "outputs": [
    {
     "name": "stdout",
     "output_type": "stream",
     "text": [
      "5034\n"
     ]
    }
   ],
   "source": [
    "# store a list of dictionary of source/target location\n",
    "bus_stop_dict = {}\n",
    "bus_stop_location = r\"C:\\Users\\ytxu\\Documents\\ArcGIS\\Projects\\GE6211SDH\\GE6211SDH.gdb\\BusStop\"\n",
    "with arcpy.da.SearchCursor(bus_stop_location, [\"BUS_STOP_N\", \"SHAPE@XY\"]) as in_cursor:\n",
    "    for row in in_cursor:\n",
    "        bus_stop_dict[int(row[0])] = row[1]\n",
    "        \n",
    "del in_cursor\n",
    "print(len(bus_stop_dict))"
   ]
  },
  {
   "cell_type": "code",
   "execution_count": 56,
   "metadata": {},
   "outputs": [
    {
     "data": {
      "text/plain": [
       "['Edgelist_202101_WEEKDAY_0.csv',\n",
       " 'Edgelist_202101_WEEKDAY_1.csv',\n",
       " 'Edgelist_202101_WEEKDAY_10.csv',\n",
       " 'Edgelist_202101_WEEKDAY_11.csv',\n",
       " 'Edgelist_202101_WEEKDAY_12.csv',\n",
       " 'Edgelist_202101_WEEKDAY_13.csv',\n",
       " 'Edgelist_202101_WEEKDAY_14.csv',\n",
       " 'Edgelist_202101_WEEKDAY_15.csv',\n",
       " 'Edgelist_202101_WEEKDAY_16.csv',\n",
       " 'Edgelist_202101_WEEKDAY_17.csv',\n",
       " 'Edgelist_202101_WEEKDAY_18.csv',\n",
       " 'Edgelist_202101_WEEKDAY_19.csv',\n",
       " 'Edgelist_202101_WEEKDAY_2.csv',\n",
       " 'Edgelist_202101_WEEKDAY_20.csv',\n",
       " 'Edgelist_202101_WEEKDAY_21.csv',\n",
       " 'Edgelist_202101_WEEKDAY_22.csv',\n",
       " 'Edgelist_202101_WEEKDAY_23.csv',\n",
       " 'Edgelist_202101_WEEKDAY_3.csv',\n",
       " 'Edgelist_202101_WEEKDAY_4.csv',\n",
       " 'Edgelist_202101_WEEKDAY_5.csv',\n",
       " 'Edgelist_202101_WEEKDAY_6.csv',\n",
       " 'Edgelist_202101_WEEKDAY_7.csv',\n",
       " 'Edgelist_202101_WEEKDAY_8.csv',\n",
       " 'Edgelist_202101_WEEKDAY_9.csv',\n",
       " 'Edgelist_202101_WEEKENDSHOLIDAY_0.csv',\n",
       " 'Edgelist_202101_WEEKENDSHOLIDAY_1.csv',\n",
       " 'Edgelist_202101_WEEKENDSHOLIDAY_10.csv',\n",
       " 'Edgelist_202101_WEEKENDSHOLIDAY_11.csv',\n",
       " 'Edgelist_202101_WEEKENDSHOLIDAY_12.csv',\n",
       " 'Edgelist_202101_WEEKENDSHOLIDAY_13.csv',\n",
       " 'Edgelist_202101_WEEKENDSHOLIDAY_14.csv',\n",
       " 'Edgelist_202101_WEEKENDSHOLIDAY_15.csv',\n",
       " 'Edgelist_202101_WEEKENDSHOLIDAY_16.csv',\n",
       " 'Edgelist_202101_WEEKENDSHOLIDAY_17.csv',\n",
       " 'Edgelist_202101_WEEKENDSHOLIDAY_18.csv',\n",
       " 'Edgelist_202101_WEEKENDSHOLIDAY_19.csv',\n",
       " 'Edgelist_202101_WEEKENDSHOLIDAY_2.csv',\n",
       " 'Edgelist_202101_WEEKENDSHOLIDAY_20.csv',\n",
       " 'Edgelist_202101_WEEKENDSHOLIDAY_21.csv',\n",
       " 'Edgelist_202101_WEEKENDSHOLIDAY_22.csv',\n",
       " 'Edgelist_202101_WEEKENDSHOLIDAY_23.csv',\n",
       " 'Edgelist_202101_WEEKENDSHOLIDAY_3.csv',\n",
       " 'Edgelist_202101_WEEKENDSHOLIDAY_4.csv',\n",
       " 'Edgelist_202101_WEEKENDSHOLIDAY_5.csv',\n",
       " 'Edgelist_202101_WEEKENDSHOLIDAY_6.csv',\n",
       " 'Edgelist_202101_WEEKENDSHOLIDAY_7.csv',\n",
       " 'Edgelist_202101_WEEKENDSHOLIDAY_8.csv',\n",
       " 'Edgelist_202101_WEEKENDSHOLIDAY_9.csv']"
      ]
     },
     "execution_count": 56,
     "metadata": {},
     "output_type": "execute_result"
    }
   ],
   "source": [
    "edgelist_list"
   ]
  },
  {
   "cell_type": "code",
   "execution_count": 58,
   "metadata": {},
   "outputs": [
    {
     "name": "stdout",
     "output_type": "stream",
     "text": [
      "C:\\Users\\ytxu\\Documents\\ArcGIS\\Projects\\GE6211SDH\\NetworkGeometry.gdb\\NetworkLine_WEEKDAY_2\n",
      "C:\\Users\\ytxu\\Documents\\ArcGIS\\Projects\\GE6211SDH\\NetworkGeometry.gdb\\NetworkLine_WEEKDAY_6\n",
      "C:\\Users\\ytxu\\Documents\\ArcGIS\\Projects\\GE6211SDH\\NetworkGeometry.gdb\\NetworkLine_WEEKDAY_7\n",
      "C:\\Users\\ytxu\\Documents\\ArcGIS\\Projects\\GE6211SDH\\NetworkGeometry.gdb\\NetworkLine_WEEKDAY_8\n",
      "C:\\Users\\ytxu\\Documents\\ArcGIS\\Projects\\GE6211SDH\\NetworkGeometry.gdb\\NetworkLine_WEEKDAY_9\n",
      "C:\\Users\\ytxu\\Documents\\ArcGIS\\Projects\\GE6211SDH\\NetworkGeometry.gdb\\NetworkLine_WEEKENDSHOLIDAY_0\n",
      "C:\\Users\\ytxu\\Documents\\ArcGIS\\Projects\\GE6211SDH\\NetworkGeometry.gdb\\NetworkLine_WEEKENDSHOLIDAY_1\n",
      "C:\\Users\\ytxu\\Documents\\ArcGIS\\Projects\\GE6211SDH\\NetworkGeometry.gdb\\NetworkLine_WEEKENDSHOLIDAY_10\n",
      "C:\\Users\\ytxu\\Documents\\ArcGIS\\Projects\\GE6211SDH\\NetworkGeometry.gdb\\NetworkLine_WEEKENDSHOLIDAY_11\n",
      "C:\\Users\\ytxu\\Documents\\ArcGIS\\Projects\\GE6211SDH\\NetworkGeometry.gdb\\NetworkLine_WEEKENDSHOLIDAY_12\n",
      "C:\\Users\\ytxu\\Documents\\ArcGIS\\Projects\\GE6211SDH\\NetworkGeometry.gdb\\NetworkLine_WEEKENDSHOLIDAY_13\n",
      "C:\\Users\\ytxu\\Documents\\ArcGIS\\Projects\\GE6211SDH\\NetworkGeometry.gdb\\NetworkLine_WEEKENDSHOLIDAY_14\n",
      "C:\\Users\\ytxu\\Documents\\ArcGIS\\Projects\\GE6211SDH\\NetworkGeometry.gdb\\NetworkLine_WEEKENDSHOLIDAY_15\n",
      "C:\\Users\\ytxu\\Documents\\ArcGIS\\Projects\\GE6211SDH\\NetworkGeometry.gdb\\NetworkLine_WEEKENDSHOLIDAY_16\n",
      "C:\\Users\\ytxu\\Documents\\ArcGIS\\Projects\\GE6211SDH\\NetworkGeometry.gdb\\NetworkLine_WEEKENDSHOLIDAY_17\n",
      "C:\\Users\\ytxu\\Documents\\ArcGIS\\Projects\\GE6211SDH\\NetworkGeometry.gdb\\NetworkLine_WEEKENDSHOLIDAY_18\n",
      "C:\\Users\\ytxu\\Documents\\ArcGIS\\Projects\\GE6211SDH\\NetworkGeometry.gdb\\NetworkLine_WEEKENDSHOLIDAY_19\n",
      "C:\\Users\\ytxu\\Documents\\ArcGIS\\Projects\\GE6211SDH\\NetworkGeometry.gdb\\NetworkLine_WEEKENDSHOLIDAY_2\n",
      "C:\\Users\\ytxu\\Documents\\ArcGIS\\Projects\\GE6211SDH\\NetworkGeometry.gdb\\NetworkLine_WEEKENDSHOLIDAY_20\n",
      "C:\\Users\\ytxu\\Documents\\ArcGIS\\Projects\\GE6211SDH\\NetworkGeometry.gdb\\NetworkLine_WEEKENDSHOLIDAY_21\n",
      "C:\\Users\\ytxu\\Documents\\ArcGIS\\Projects\\GE6211SDH\\NetworkGeometry.gdb\\NetworkLine_WEEKENDSHOLIDAY_22\n",
      "C:\\Users\\ytxu\\Documents\\ArcGIS\\Projects\\GE6211SDH\\NetworkGeometry.gdb\\NetworkLine_WEEKENDSHOLIDAY_23\n",
      "C:\\Users\\ytxu\\Documents\\ArcGIS\\Projects\\GE6211SDH\\NetworkGeometry.gdb\\NetworkLine_WEEKENDSHOLIDAY_3\n",
      "C:\\Users\\ytxu\\Documents\\ArcGIS\\Projects\\GE6211SDH\\NetworkGeometry.gdb\\NetworkLine_WEEKENDSHOLIDAY_4\n",
      "C:\\Users\\ytxu\\Documents\\ArcGIS\\Projects\\GE6211SDH\\NetworkGeometry.gdb\\NetworkLine_WEEKENDSHOLIDAY_5\n",
      "C:\\Users\\ytxu\\Documents\\ArcGIS\\Projects\\GE6211SDH\\NetworkGeometry.gdb\\NetworkLine_WEEKENDSHOLIDAY_6\n",
      "C:\\Users\\ytxu\\Documents\\ArcGIS\\Projects\\GE6211SDH\\NetworkGeometry.gdb\\NetworkLine_WEEKENDSHOLIDAY_7\n",
      "C:\\Users\\ytxu\\Documents\\ArcGIS\\Projects\\GE6211SDH\\NetworkGeometry.gdb\\NetworkLine_WEEKENDSHOLIDAY_8\n",
      "C:\\Users\\ytxu\\Documents\\ArcGIS\\Projects\\GE6211SDH\\NetworkGeometry.gdb\\NetworkLine_WEEKENDSHOLIDAY_9\n"
     ]
    }
   ],
   "source": [
    "# READ EDGE LIST CSV AND EXPORT TO XY-LINE FORMAT\n",
    "out_fgdb = r\"C:\\Users\\ytxu\\Documents\\ArcGIS\\Projects\\GE6211SDH\\NetworkGeometry.gdb\"\n",
    "arcpy.env.workspace = out_fgdb\n",
    "arcpy.env.overwriteOutput = True\n",
    "bus_data = r\"C:\\Users\\ytxu\\Documents\\ArcGIS\\Projects\\GE6211SDH\\GE6211SDH.gdb\\BusStop_SVY\"\n",
    "spatial_ref = arcpy.Describe(bus_data).spatialReference\n",
    "\n",
    "for f in edgelist_list:\n",
    "\n",
    "    in_file = os.path.join(input_data_folder, f)\n",
    "    day_type = f.split(\"_\")[2]\n",
    "    day_hour = f.replace(\".csv\",\"\").split(\"_\")[-1]\n",
    "    out_name = \"XYLine_\" + day_type + \"_\" + day_hour    \n",
    "    \n",
    "    if day_type == 'WEEKDAY' and day_hour in ['0','1','10','11','12','13','14','15','16',\n",
    "                                              '17','18','19','20','21','22','23','3','4','5']:\n",
    "        \n",
    "        continue\n",
    "    elif day_hour in ['6'] and day_type=='WEEKDAY':\n",
    "        df = pd.read_csv(in_file, sep=',')\n",
    "    else:\n",
    "        df = pd.read_csv(in_file, sep=' ')\n",
    "\n",
    "    \n",
    "    df['StartX'] = df.Source.map(lambda x: bus_stop_dict[x][0] if x in bus_stop_dict.keys() else 0)\n",
    "    df['StartY']= df.Source.map(lambda x: bus_stop_dict[x][1] if x in bus_stop_dict.keys() else 0)\n",
    "    df['EndX']= df.Target.map(lambda x: bus_stop_dict[x][0] if x in bus_stop_dict.keys() else 0)\n",
    "    df['EndY']= df.Target.map(lambda x: bus_stop_dict[x][1] if x in bus_stop_dict.keys() else 0)\n",
    "    \n",
    "    out_excel = os.path.join(out_folder, out_name + \".xlsx\")\n",
    "    df.to_excel(out_excel)\n",
    "    out_table = os.path.join(out_fgdb, out_name)\n",
    "    out_FCname = \"NetworkLine_\" + day_type + \"_\" + day_hour\n",
    "    out_fc = os.path.join(out_fgdb, out_FCname)\n",
    "    \n",
    "    arcpy.ExcelToTable_conversion(out_excel, out_table, \"Sheet1\")\n",
    "    arcpy.XYToLine_management(out_table, out_fc, \n",
    "                              \"StartX\", \"StartY\", \"EndX\", \"EndY\", \"GEODESIC\", \"COL_A\", spatial_ref, \"ATTRIBUTES\")\n",
    "    print(out_fc)\n",
    "    "
   ]
  },
  {
   "cell_type": "code",
   "execution_count": 35,
   "metadata": {},
   "outputs": [],
   "source": []
  },
  {
   "cell_type": "code",
   "execution_count": 37,
   "metadata": {},
   "outputs": [
    {
     "data": {
      "text/plain": [
       "'C:\\\\Users\\\\ytxu\\\\Documents\\\\ArcGIS\\\\Projects\\\\GE6211SDH\\\\NetworkGeometry.gdb\\\\table'"
      ]
     },
     "execution_count": 37,
     "metadata": {},
     "output_type": "execute_result"
    }
   ],
   "source": []
  },
  {
   "cell_type": "code",
   "execution_count": 42,
   "metadata": {},
   "outputs": [],
   "source": []
  },
  {
   "cell_type": "code",
   "execution_count": 41,
   "metadata": {},
   "outputs": [],
   "source": [
    "out_folder = r\"C:\\Users\\ytxu\\Documents\\ArcGIS\\Projects\\GE6211SDH\\Processed\\202101\\Shapefile\\Bus\""
   ]
  },
  {
   "cell_type": "code",
   "execution_count": 40,
   "metadata": {},
   "outputs": [
    {
     "data": {
      "text/plain": [
       "pandas.core.frame.DataFrame"
      ]
     },
     "execution_count": 40,
     "metadata": {},
     "output_type": "execute_result"
    }
   ],
   "source": [
    "type(df)"
   ]
  },
  {
   "cell_type": "code",
   "execution_count": null,
   "metadata": {},
   "outputs": [],
   "source": []
  },
  {
   "cell_type": "code",
   "execution_count": null,
   "metadata": {},
   "outputs": [],
   "source": []
  }
 ],
 "metadata": {
  "kernelspec": {
   "display_name": "Python 3",
   "language": "python",
   "name": "python3"
  },
  "language_info": {
   "codemirror_mode": {
    "name": "ipython",
    "version": 3
   },
   "file_extension": ".py",
   "mimetype": "text/x-python",
   "name": "python",
   "nbconvert_exporter": "python",
   "pygments_lexer": "ipython3",
   "version": "3.7.9"
  },
  "varInspector": {
   "cols": {
    "lenName": 16,
    "lenType": 16,
    "lenVar": 40
   },
   "kernels_config": {
    "python": {
     "delete_cmd_postfix": "",
     "delete_cmd_prefix": "del ",
     "library": "var_list.py",
     "varRefreshCmd": "print(var_dic_list())"
    },
    "r": {
     "delete_cmd_postfix": ") ",
     "delete_cmd_prefix": "rm(",
     "library": "var_list.r",
     "varRefreshCmd": "cat(var_dic_list()) "
    }
   },
   "types_to_exclude": [
    "module",
    "function",
    "builtin_function_or_method",
    "instance",
    "_Feature"
   ],
   "window_display": false
  }
 },
 "nbformat": 4,
 "nbformat_minor": 4
}
