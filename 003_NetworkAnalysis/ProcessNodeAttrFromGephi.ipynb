version https://git-lfs.github.com/spec/v1
oid sha256:e8a1c62745cc71ce93d1ee206ca82c066a95615357f30fc97e8fcb6656ad0592
size 50041
